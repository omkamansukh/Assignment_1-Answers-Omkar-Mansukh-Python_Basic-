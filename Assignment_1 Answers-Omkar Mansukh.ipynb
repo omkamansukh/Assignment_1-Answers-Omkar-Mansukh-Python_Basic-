{
 "cells": [
  {
   "cell_type": "code",
   "execution_count": null,
   "id": "51aadbfb",
   "metadata": {},
   "outputs": [],
   "source": [
    "In the below elements which of them are values or an expression?\n",
    "* = 'expression'\n",
    "'hello'= 'string\n",
    "-87.8 = 'Float'\n",
    "- = 'expression'\n",
    "/ = 'expression'\n",
    "+ = 'expression'\n",
    "6 = 'integer'"
   ]
  },
  {
   "cell_type": "code",
   "execution_count": null,
   "id": "22ec8424",
   "metadata": {},
   "outputs": [],
   "source": [
    "What is the difference between string and variable?\n",
    "String is enclosed in a single or double apostrophe and varible is something which contains or hold values\n",
    "Egs.: \n",
    "For String : 'Omkar', 'Mansukh', 'ineuron', 'Data Science' is all a string function\n",
    "For Variable: a=2662 (a is a variable which holds he value 2662), similarly Omkar='Future Data Scientist'(Omkar is a variable which contains the Value'Future Data Scientist')"
   ]
  },
  {
   "cell_type": "code",
   "execution_count": null,
   "id": "43f34ae6",
   "metadata": {},
   "outputs": [],
   "source": [
    "Describe three different data types.\n",
    "Below are the three types:\n",
    "    1. String = 'Omkar Mansukh'\n",
    "    2. Integer = 13101995\n",
    "    3. Float = 13.10\n",
    "    4. 1+6j = complex"
   ]
  },
  {
   "cell_type": "code",
   "execution_count": null,
   "id": "eea589c1",
   "metadata": {},
   "outputs": [],
   "source": [
    "What is an expression made up of? What do all expressions do?\n",
    "don't know exactly.\n"
   ]
  },
  {
   "cell_type": "code",
   "execution_count": null,
   "id": "524b7e53",
   "metadata": {},
   "outputs": [],
   "source": [
    "This assignment statements, like spam = 10. What is the difference between an\n",
    "expression and a statement?\n",
    "spam= 10 is a statement and b = spam*10 is an expression(which will results to 100)"
   ]
  },
  {
   "cell_type": "code",
   "execution_count": null,
   "id": "1d837a99",
   "metadata": {},
   "outputs": [],
   "source": [
    "After running the following code, what does the variable bacon contain?\n",
    "bacon = 22\n",
    "bacon + 1\n",
    "Variable bacon contains the value 22"
   ]
  },
  {
   "cell_type": "code",
   "execution_count": null,
   "id": "a60bab89",
   "metadata": {},
   "outputs": [],
   "source": [
    "What should the values of the following two terms be?\n",
    "'spam'+'spamspam'\n",
    "'spam'*3\n",
    "\n",
    "'spam'+'spamspam'  = 'spamspamspam'\n",
    "'spam'*3   =   'spamspamspam'"
   ]
  },
  {
   "cell_type": "code",
   "execution_count": null,
   "id": "b6336520",
   "metadata": {},
   "outputs": [],
   "source": [
    "Why is eggs a valid variable name while 100 is invalid?\n",
    "eggs is a name in alphabetical spell and wihout an apostophe, while 100 is an integer & i guess values cannot be a variable."
   ]
  },
  {
   "cell_type": "code",
   "execution_count": null,
   "id": "4fca79fb",
   "metadata": {},
   "outputs": [],
   "source": [
    "What three functions can be used to get the integer, floating-point number, or string\n",
    "version of a value?\n",
    "didn't get the question."
   ]
  },
  {
   "cell_type": "code",
   "execution_count": null,
   "id": "552330ab",
   "metadata": {},
   "outputs": [],
   "source": [
    "Why does this expression cause an error? How can you fix it?\n",
    "'I have eaten'+99+'burritos'\n",
    "\n",
    "In this, 'I have eaten' & 'burritos ' are string function while 99 is an integer.This can only be solve by converting 99 into a string\n",
    "Eg. is shown in below cell."
   ]
  },
  {
   "cell_type": "code",
   "execution_count": 13,
   "id": "bd2e42be",
   "metadata": {},
   "outputs": [
    {
     "data": {
      "text/plain": [
       "'I have eaten 99 burritos'"
      ]
     },
     "execution_count": 13,
     "metadata": {},
     "output_type": "execute_result"
    }
   ],
   "source": [
    "'I have eaten'+' 99 '+'burritos'"
   ]
  },
  {
   "cell_type": "code",
   "execution_count": null,
   "id": "7331724d",
   "metadata": {},
   "outputs": [],
   "source": []
  },
  {
   "cell_type": "code",
   "execution_count": null,
   "id": "df8571d9",
   "metadata": {},
   "outputs": [],
   "source": []
  }
 ],
 "metadata": {
  "kernelspec": {
   "display_name": "Python 3 (ipykernel)",
   "language": "python",
   "name": "python3"
  },
  "language_info": {
   "codemirror_mode": {
    "name": "ipython",
    "version": 3
   },
   "file_extension": ".py",
   "mimetype": "text/x-python",
   "name": "python",
   "nbconvert_exporter": "python",
   "pygments_lexer": "ipython3",
   "version": "3.10.9"
  }
 },
 "nbformat": 4,
 "nbformat_minor": 5
}
